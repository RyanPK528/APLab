{
 "cells": [
  {
   "cell_type": "code",
   "execution_count": null,
   "metadata": {},
   "outputs": [],
   "source": [
    "#List of Operations\n",
    "print(\"\"\"\n",
    "1. Addition\n",
    "2. Subtraction\n",
    "3. Multiplication\n",
    "4. Division\n",
    "5. Power\n",
    "6. Root\n",
    "\"\"\")\n",
    "print(\"Select the operation 1-6:\")\n",
    "      \n",
    "#Computing the results\n",
    "operation = int(input())\n",
    "if operation == 1 :\n",
    "      value1 = input(\"Insert first value: \")\n",
    "      value2 = input(\"Insert second value: \")\n",
    "      result = float(value1) + float(value2)\n",
    "      print(\"The resulting value of \" + str(value1) + \" plus  \" + str(value2) + \" is \" + str(result))\n",
    "elif operation == 2 : \n",
    "      value1 = input(\"Insert first value: \")\n",
    "      value2 = input(\"Insert second value: \")\n",
    "      result = float(value1) - float(value2)\n",
    "      print(\"The resulting value of \" + str(value1) + \" minus \" + str(value2) + \" is \" + str(result))\n",
    "elif operation == 3 :\n",
    "      value1 = input(\"Insert first value: \")\n",
    "      value2 = input(\"Insert second value: \")\n",
    "      result = float(value1) * float(value2)\n",
    "      print(\"The resulting value of \" + str(value1) + \" multiplied by \" + str(value2) + \" is \" + str(result))\n",
    "elif operation == 4 :\n",
    "      value1 = input(\"Insert first value: \")\n",
    "      value2 = input(\"Insert second value: \")\n",
    "      result = float(value1) / float(value2)\n",
    "      print(\"The resulting value of \" + str(value1) + \" divided by \" + str(value2) + \" is \" + str(result))\n",
    "elif operation == 5 :\n",
    "      value1 = input(\"Insert first value: \")\n",
    "      value2 = input(\"Insert second value: \")\n",
    "      result = float(value1)**int(value2)\n",
    "      print(\"The resulting value of \" + str(value1) + \" to the power of \" + str(value2) + \" is \" + str(result))\n",
    "elif operation == 6 :\n",
    "      value1 = input(\"Insert first value: \")\n",
    "      value2 = input(\"Insert second value: \")\n",
    "      result = float(value1)**(1/float(value2))\n",
    "      print(\"The resulting value of \" + str(value1) + \" to the root of \" + str(value2) + \" is \" + str(result))\n",
    "else:\n",
    "      print(\"Invalid Input\")"
   ]
  }
 ],
 "metadata": {
  "language_info": {
   "name": "python"
  },
  "orig_nbformat": 4
 },
 "nbformat": 4,
 "nbformat_minor": 2
}
