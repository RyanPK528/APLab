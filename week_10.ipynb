{
 "cells": [
  {
   "cell_type": "code",
   "execution_count": 10,
   "metadata": {},
   "outputs": [
    {
     "name": "stdout",
     "output_type": "stream",
     "text": [
      "Length of the first word: 8\n",
      "First word: accuracy\n",
      "Length of the second word: 8\n",
      "Second word: cylinder\n",
      "Both words can be linked with the subword 'cy'.\n"
     ]
    }
   ],
   "source": [
    "class WordLinkingGame:\n",
    "    def __init__(self, word1, word2):\n",
    "        self.word1 = word1.lower()\n",
    "        self.word2 = word2.lower()\n",
    "\n",
    "    def find_subword(self):\n",
    "        len1, len2 = len(self.word1), len(self.word2)\n",
    "\n",
    "        if self.word1[-1] == self.word2[0]:\n",
    "            return self.word1[-1]\n",
    "\n",
    "        for i in range(len1):\n",
    "            for j in range(len2):\n",
    "                if self.word1[i:] == self.word2[:len2 - j]:\n",
    "                    return self.word1[i:]\n",
    "\n",
    "        return None\n",
    "\n",
    "    def run_game(self):\n",
    "        len_word1 = len(self.word1)\n",
    "        len_word2 = len(self.word2)\n",
    "\n",
    "        print(f\"Length of the first word: {len_word1}\")\n",
    "        print(f\"First word: {self.word1}\")\n",
    "        print(f\"Length of the second word: {len_word2}\")\n",
    "        print(f\"Second word: {self.word2}\")\n",
    "\n",
    "        subword = self.find_subword()\n",
    "        if subword:\n",
    "            print(f\"The two words can be linked with the subword '{subword}'.\")\n",
    "        else:\n",
    "            print(\"The two words cannot be linked.\")\n",
    "\n",
    "# Taking input from the user\n",
    "word1 = input(\"Enter the first word: \")\n",
    "word2 = input(\"Enter the second word: \")\n",
    "\n",
    "# Run the game\n",
    "game_instance = WordLinkingGame(word1, word2)\n",
    "game_instance.run_game()\n"
   ]
  },
  {
   "cell_type": "code",
   "execution_count": 3,
   "metadata": {},
   "outputs": [
    {
     "name": "stdout",
     "output_type": "stream",
     "text": [
      "The smallest beautiful number divisible by 259 is 777\n"
     ]
    }
   ],
   "source": [
    "Input = int(input(\"Number: \"))\n",
    "\n",
    "i = 0\n",
    "beautifulNum = Input\n",
    "                \n",
    "    \n",
    "while i == 0:\n",
    "    if beautifulNum%Input == 0:\n",
    "        numList = []\n",
    "        for x in str(beautifulNum):\n",
    "            if int(x) in numList:\n",
    "                pass\n",
    "            else:\n",
    "                numList.append(int(x))\n",
    "\n",
    "        if len(numList) == 1:\n",
    "            i += 1\n",
    "            print(f\"The smallest beautiful number divisible by {Input} is {beautifulNum}\")\n",
    "\n",
    "    beautifulNum += 1"
   ]
  }
 ],
 "metadata": {
  "kernelspec": {
   "display_name": "Python 3",
   "language": "python",
   "name": "python3"
  },
  "language_info": {
   "codemirror_mode": {
    "name": "ipython",
    "version": 3
   },
   "file_extension": ".py",
   "mimetype": "text/x-python",
   "name": "python",
   "nbconvert_exporter": "python",
   "pygments_lexer": "ipython3",
   "version": "3.11.4"
  }
 },
 "nbformat": 4,
 "nbformat_minor": 2
}
